{
 "cells": [
  {
   "cell_type": "code",
   "execution_count": 1,
   "metadata": {},
   "outputs": [],
   "source": [
    "import json\n",
    "import matplotlib.pyplot as plt\n",
    "import numpy as np\n",
    "import pandas as pd\n",
    "import random \n",
    "from scipy.spatial.distance import cdist\n",
    "import seaborn as sns"
   ]
  },
  {
   "cell_type": "markdown",
   "metadata": {},
   "source": [
    "## Loading and preparing data"
   ]
  },
  {
   "cell_type": "markdown",
   "metadata": {},
   "source": [
    "### Loading INSEE codes\n",
    "Download from [here](https://public.opendatasoft.com/explore/dataset/correspondance-code-insee-code-postal/export/). \n"
   ]
  },
  {
   "cell_type": "code",
   "execution_count": 2,
   "metadata": {},
   "outputs": [],
   "source": [
    "df = pd.read_csv('correspondance-code-insee-code-postal.csv', delimiter=\";\")[['Code Postal', 'Code INSEE', 'Population', 'geo_point_2d', 'Commune']]\n",
    "df['population'] = (df['Population'].astype(float)*1000).apply(int)\n",
    "df.drop_duplicates(inplace=True)"
   ]
  },
  {
   "cell_type": "code",
   "execution_count": 3,
   "metadata": {},
   "outputs": [
    {
     "data": {
      "text/plain": [
       "(36742, 6)"
      ]
     },
     "execution_count": 3,
     "metadata": {},
     "output_type": "execute_result"
    }
   ],
   "source": [
    "df.shape"
   ]
  },
  {
   "cell_type": "code",
   "execution_count": 4,
   "metadata": {},
   "outputs": [
    {
     "data": {
      "text/html": [
       "<div>\n",
       "<style scoped>\n",
       "    .dataframe tbody tr th:only-of-type {\n",
       "        vertical-align: middle;\n",
       "    }\n",
       "\n",
       "    .dataframe tbody tr th {\n",
       "        vertical-align: top;\n",
       "    }\n",
       "\n",
       "    .dataframe thead th {\n",
       "        text-align: right;\n",
       "    }\n",
       "</style>\n",
       "<table border=\"1\" class=\"dataframe\">\n",
       "  <thead>\n",
       "    <tr style=\"text-align: right;\">\n",
       "      <th></th>\n",
       "      <th>Code Postal</th>\n",
       "      <th>Code INSEE</th>\n",
       "      <th>Population</th>\n",
       "      <th>geo_point_2d</th>\n",
       "      <th>Commune</th>\n",
       "      <th>population</th>\n",
       "    </tr>\n",
       "  </thead>\n",
       "  <tbody>\n",
       "    <tr>\n",
       "      <th>0</th>\n",
       "      <td>63550</td>\n",
       "      <td>63402</td>\n",
       "      <td>0.3</td>\n",
       "      <td>45.9381159052,3.61132640921</td>\n",
       "      <td>SAINT-VICTOR-MONTVIANEIX</td>\n",
       "      <td>300</td>\n",
       "    </tr>\n",
       "    <tr>\n",
       "      <th>1</th>\n",
       "      <td>26150</td>\n",
       "      <td>26027</td>\n",
       "      <td>0.2</td>\n",
       "      <td>44.7264116116,5.30407617795</td>\n",
       "      <td>BARSAC</td>\n",
       "      <td>200</td>\n",
       "    </tr>\n",
       "    <tr>\n",
       "      <th>2</th>\n",
       "      <td>42940</td>\n",
       "      <td>42205</td>\n",
       "      <td>0.7</td>\n",
       "      <td>45.655161946,3.9261116009</td>\n",
       "      <td>SAINT-BONNET-LE-COURREAU</td>\n",
       "      <td>700</td>\n",
       "    </tr>\n",
       "    <tr>\n",
       "      <th>3</th>\n",
       "      <td>69660</td>\n",
       "      <td>69063</td>\n",
       "      <td>3.8</td>\n",
       "      <td>45.8220411914,4.8419319446</td>\n",
       "      <td>COLLONGES-AU-MONT-D'OR</td>\n",
       "      <td>3800</td>\n",
       "    </tr>\n",
       "    <tr>\n",
       "      <th>4</th>\n",
       "      <td>61360</td>\n",
       "      <td>61502</td>\n",
       "      <td>0.1</td>\n",
       "      <td>48.4602912292,0.376581458211</td>\n",
       "      <td>VIDAI</td>\n",
       "      <td>100</td>\n",
       "    </tr>\n",
       "  </tbody>\n",
       "</table>\n",
       "</div>"
      ],
      "text/plain": [
       "  Code Postal Code INSEE  Population                  geo_point_2d  \\\n",
       "0       63550      63402         0.3   45.9381159052,3.61132640921   \n",
       "1       26150      26027         0.2   44.7264116116,5.30407617795   \n",
       "2       42940      42205         0.7     45.655161946,3.9261116009   \n",
       "3       69660      69063         3.8    45.8220411914,4.8419319446   \n",
       "4       61360      61502         0.1  48.4602912292,0.376581458211   \n",
       "\n",
       "                    Commune  population  \n",
       "0  SAINT-VICTOR-MONTVIANEIX         300  \n",
       "1                    BARSAC         200  \n",
       "2  SAINT-BONNET-LE-COURREAU         700  \n",
       "3    COLLONGES-AU-MONT-D'OR        3800  \n",
       "4                     VIDAI         100  "
      ]
     },
     "execution_count": 4,
     "metadata": {},
     "output_type": "execute_result"
    }
   ],
   "source": [
    "df.head()"
   ]
  },
  {
   "cell_type": "markdown",
   "metadata": {},
   "source": [
    "### Prepare the data "
   ]
  },
  {
   "cell_type": "code",
   "execution_count": 5,
   "metadata": {},
   "outputs": [],
   "source": [
    "# df is something like\n",
    "#      Code INSEE  Code Postal           Commune\n",
    "# 1392      45234  45000/45100           ORLEANS\n",
    "# 2528      63113  63000/63100  CLERMONT-FERRAND\n",
    "# 4996      60048  60113/60190             BAUGY\n",
    "# ..\n",
    "# df_codes has index to code postal:\n",
    "# 1392    [45000, 45100]\n",
    "# 2528    [63000, 63100]\n",
    "# 4996    [60113, 60190]\n",
    "df_codes = df['Code Postal'].str.split('/')\n",
    "\n",
    "# df_code_postal has the flat version of df_codes\n",
    "#      Code Postal\n",
    "# 1392       45000\n",
    "# 1392       45100\n",
    "# 2528       63000\n",
    "# 2528       63100\n",
    "# 4996       60113\n",
    "# 4996       60190\n",
    "df_code_postal = pd.concat(\n",
    "    [pd.Series(codes, index=[index] * len(codes), name='Code Postal')\n",
    "     for index, codes in df_codes.iteritems()]\n",
    ").to_frame()\n",
    "\n",
    "# join and reindex with original, giving\n",
    "#      Code INSEE           Commune Code Postal\n",
    "# 1392      45234           ORLEANS       45000\n",
    "# 1392      45234           ORLEANS       45100\n",
    "# 2528      63113  CLERMONT-FERRAND       63000\n",
    "# 2528      63113  CLERMONT-FERRAND       63100\n",
    "# 4996      60048             BAUGY       60113\n",
    "# 4996      60048             BAUGY       60190\n",
    "df = df.drop(columns='Code Postal').join(df_code_postal)\n",
    "df['code_postal'] = df[\"Code Postal\"].apply(str).str.zfill(5)\n",
    "# reset index\n",
    "df.reset_index(inplace=True, drop=True)"
   ]
  },
  {
   "cell_type": "markdown",
   "metadata": {},
   "source": [
    "## Visualize the distributions and choose N "
   ]
  },
  {
   "cell_type": "markdown",
   "metadata": {},
   "source": [
    "### Population per city distribution"
   ]
  },
  {
   "cell_type": "code",
   "execution_count": 6,
   "metadata": {},
   "outputs": [
    {
     "data": {
      "text/plain": [
       "<matplotlib.axes._subplots.AxesSubplot at 0x7fdf303856d0>"
      ]
     },
     "execution_count": 6,
     "metadata": {},
     "output_type": "execute_result"
    },
    {
     "data": {
      "image/png": "[encoded data removed]",
      "text/plain": [
       "<Figure size 432x288 with 1 Axes>"
      ]
     },
     "metadata": {
      "needs_background": "light"
     },
     "output_type": "display_data"
    }
   ],
   "source": [
    "sns.distplot(df['population'])"
   ]
  },
  {
   "cell_type": "code",
   "execution_count": 7,
   "metadata": {},
   "outputs": [
    {
     "data": {
      "text/plain": [
       "<matplotlib.axes._subplots.AxesSubplot at 0x7fdf70e30e50>"
      ]
     },
     "execution_count": 7,
     "metadata": {},
     "output_type": "execute_result"
    },
    {
     "data": {
      "image/png": "[encoded data removed]",
      "text/plain": [
       "<Figure size 432x288 with 1 Axes>"
      ]
     },
     "metadata": {
      "needs_background": "light"
     },
     "output_type": "display_data"
    }
   ],
   "source": [
    "sns.distplot(df[df['population'] < 5000]['population'])"
   ]
  },
  {
   "cell_type": "markdown",
   "metadata": {},
   "source": [
    "### Cumulative population"
   ]
  },
  {
   "cell_type": "code",
   "execution_count": 8,
   "metadata": {},
   "outputs": [],
   "source": [
    "grouped = df.groupby(by=['population'])['population'].sum()\n",
    "cumulative = np.cumsum(grouped) / grouped.sum()"
   ]
  },
  {
   "cell_type": "code",
   "execution_count": 9,
   "metadata": {},
   "outputs": [],
   "source": [
    "def stats(inhabitants):\n",
    "    print('< {} inhabitants: {:2.2%} of population, {} cities'.format(inhabitants, cumulative[inhabitants], df[df['population'] > inhabitants].shape[0]))"
   ]
  },
  {
   "cell_type": "code",
   "execution_count": 10,
   "metadata": {},
   "outputs": [
    {
     "name": "stdout",
     "output_type": "stream",
     "text": [
      "< 1000 inhabitants: 12.87% of population, 9300 cities\n",
      "< 2000 inhabitants: 20.81% of population, 5082 cities\n",
      "< 3000 inhabitants: 25.88% of population, 3509 cities\n"
     ]
    },
    {
     "data": {
      "text/plain": [
       "(None, None, None)"
      ]
     },
     "execution_count": 10,
     "metadata": {},
     "output_type": "execute_result"
    }
   ],
   "source": [
    "stats(1000), stats(2000), stats(3000)"
   ]
  },
  {
   "cell_type": "code",
   "execution_count": 11,
   "metadata": {},
   "outputs": [
    {
     "data": {
      "text/plain": [
       "1900"
      ]
     },
     "execution_count": 11,
     "metadata": {},
     "output_type": "execute_result"
    }
   ],
   "source": [
    "cumulative[cumulative > 0.20].index[0]"
   ]
  },
  {
   "cell_type": "code",
   "execution_count": 12,
   "metadata": {},
   "outputs": [
    {
     "data": {
      "text/plain": [
       "(0.1287037109126629,\n",
       " 0.2080644031111561,\n",
       " 0.2587582365963101,\n",
       " 0.3281325018231458)"
      ]
     },
     "execution_count": 12,
     "metadata": {},
     "output_type": "execute_result"
    }
   ],
   "source": [
    "cumulative[1000], cumulative[2000], cumulative[3000], cumulative[5000]"
   ]
  },
  {
   "cell_type": "code",
   "execution_count": 13,
   "metadata": {},
   "outputs": [
    {
     "data": {
      "text/plain": [
       "(9300, 5082, 3509, 2126)"
      ]
     },
     "execution_count": 13,
     "metadata": {},
     "output_type": "execute_result"
    }
   ],
   "source": [
    "df[df['population'] > 1000].shape[0], df[df['population'] > 2000].shape[0], df[df['population'] > 3000].shape[0], df[df['population'] > 5000].shape[0]"
   ]
  },
  {
   "cell_type": "code",
   "execution_count": 14,
   "metadata": {},
   "outputs": [
    {
     "data": {
      "text/plain": [
       "[<matplotlib.lines.Line2D at 0x7fdf40d19910>]"
      ]
     },
     "execution_count": 14,
     "metadata": {},
     "output_type": "execute_result"
    },
    {
     "data": {
      "image/png": "[encoded data removed]",
      "text/plain": [
       "<Figure size 432x288 with 1 Axes>"
      ]
     },
     "metadata": {
      "needs_background": "light"
     },
     "output_type": "display_data"
    }
   ],
   "source": [
    "plt.plot(cumulative / grouped.sum())"
   ]
  },
  {
   "cell_type": "markdown",
   "metadata": {},
   "source": [
    "* 22% of the French population lives in cities which have < 2000 inhabitants\n",
    "* there are 3 700 cities with 3000+ inhabitants, which is roughly the number of healthcare facilities in France"
   ]
  },
  {
   "cell_type": "markdown",
   "metadata": {},
   "source": [
    "## Generate mappings from postcode to closest postcode having more than N habitants"
   ]
  },
  {
   "cell_type": "code",
   "execution_count": 15,
   "metadata": {},
   "outputs": [
    {
     "data": {
      "text/html": [
       "<div>\n",
       "<style scoped>\n",
       "    .dataframe tbody tr th:only-of-type {\n",
       "        vertical-align: middle;\n",
       "    }\n",
       "\n",
       "    .dataframe tbody tr th {\n",
       "        vertical-align: top;\n",
       "    }\n",
       "\n",
       "    .dataframe thead th {\n",
       "        text-align: right;\n",
       "    }\n",
       "</style>\n",
       "<table border=\"1\" class=\"dataframe\">\n",
       "  <thead>\n",
       "    <tr style=\"text-align: right;\">\n",
       "      <th></th>\n",
       "      <th>Code INSEE</th>\n",
       "      <th>Population</th>\n",
       "      <th>geo_point_2d</th>\n",
       "      <th>Commune</th>\n",
       "      <th>population</th>\n",
       "      <th>Code Postal</th>\n",
       "      <th>code_postal</th>\n",
       "    </tr>\n",
       "  </thead>\n",
       "  <tbody>\n",
       "    <tr>\n",
       "      <th>0</th>\n",
       "      <td>63402</td>\n",
       "      <td>0.3</td>\n",
       "      <td>45.9381159052,3.61132640921</td>\n",
       "      <td>SAINT-VICTOR-MONTVIANEIX</td>\n",
       "      <td>300</td>\n",
       "      <td>63550</td>\n",
       "      <td>63550</td>\n",
       "    </tr>\n",
       "    <tr>\n",
       "      <th>1</th>\n",
       "      <td>26027</td>\n",
       "      <td>0.2</td>\n",
       "      <td>44.7264116116,5.30407617795</td>\n",
       "      <td>BARSAC</td>\n",
       "      <td>200</td>\n",
       "      <td>26150</td>\n",
       "      <td>26150</td>\n",
       "    </tr>\n",
       "    <tr>\n",
       "      <th>2</th>\n",
       "      <td>42205</td>\n",
       "      <td>0.7</td>\n",
       "      <td>45.655161946,3.9261116009</td>\n",
       "      <td>SAINT-BONNET-LE-COURREAU</td>\n",
       "      <td>700</td>\n",
       "      <td>42940</td>\n",
       "      <td>42940</td>\n",
       "    </tr>\n",
       "    <tr>\n",
       "      <th>3</th>\n",
       "      <td>69063</td>\n",
       "      <td>3.8</td>\n",
       "      <td>45.8220411914,4.8419319446</td>\n",
       "      <td>COLLONGES-AU-MONT-D'OR</td>\n",
       "      <td>3800</td>\n",
       "      <td>69660</td>\n",
       "      <td>69660</td>\n",
       "    </tr>\n",
       "    <tr>\n",
       "      <th>4</th>\n",
       "      <td>61502</td>\n",
       "      <td>0.1</td>\n",
       "      <td>48.4602912292,0.376581458211</td>\n",
       "      <td>VIDAI</td>\n",
       "      <td>100</td>\n",
       "      <td>61360</td>\n",
       "      <td>61360</td>\n",
       "    </tr>\n",
       "  </tbody>\n",
       "</table>\n",
       "</div>"
      ],
      "text/plain": [
       "  Code INSEE  Population                  geo_point_2d  \\\n",
       "0      63402         0.3   45.9381159052,3.61132640921   \n",
       "1      26027         0.2   44.7264116116,5.30407617795   \n",
       "2      42205         0.7     45.655161946,3.9261116009   \n",
       "3      69063         3.8    45.8220411914,4.8419319446   \n",
       "4      61502         0.1  48.4602912292,0.376581458211   \n",
       "\n",
       "                    Commune  population Code Postal code_postal  \n",
       "0  SAINT-VICTOR-MONTVIANEIX         300       63550       63550  \n",
       "1                    BARSAC         200       26150       26150  \n",
       "2  SAINT-BONNET-LE-COURREAU         700       42940       42940  \n",
       "3    COLLONGES-AU-MONT-D'OR        3800       69660       69660  \n",
       "4                     VIDAI         100       61360       61360  "
      ]
     },
     "execution_count": 15,
     "metadata": {},
     "output_type": "execute_result"
    }
   ],
   "source": [
    "df.head()"
   ]
  },
  {
   "cell_type": "code",
   "execution_count": 16,
   "metadata": {},
   "outputs": [],
   "source": [
    "N = cumulative[cumulative > 0.20].index[0]\n",
    "df = pd.concat([df, df['geo_point_2d'].str.split(',').apply(pd.Series).rename(columns={0:'lattitude', 1:'longitude'})], axis=1)\n",
    "df_less = df[df['population'] < N]\n",
    "df_more = df[df['population'] >= N]"
   ]
  },
  {
   "cell_type": "code",
   "execution_count": 17,
   "metadata": {},
   "outputs": [],
   "source": [
    "ref_column = 'Code INSEE' #'code_postal' <-- if you go for `code_postal` as identifier, the following assertion fails\n",
    "assert not set(df_less[ref_column]).intersection(set(df_more[ref_column])) "
   ]
  },
  {
   "cell_type": "code",
   "execution_count": 18,
   "metadata": {},
   "outputs": [],
   "source": [
    "# pairwise distance between those two subsets \n",
    "geo_cdist = cdist(df_less[['lattitude', 'longitude']], df_more[['lattitude', 'longitude']])\n",
    "closest_index = np.argmin(geo_cdist, axis=1)"
   ]
  },
  {
   "cell_type": "code",
   "execution_count": 19,
   "metadata": {},
   "outputs": [
    {
     "data": {
      "text/plain": [
       "<matplotlib.axes._subplots.AxesSubplot at 0x7fdf52b29820>"
      ]
     },
     "execution_count": 19,
     "metadata": {},
     "output_type": "execute_result"
    },
    {
     "data": {
      "image/png": "[encoded data removed]",
      "text/plain": [
       "<Figure size 432x288 with 2 Axes>"
      ]
     },
     "metadata": {},
     "output_type": "display_data"
    }
   ],
   "source": [
    "# check that the nearest matched commune is 'near enough', compared to usual pairwise distance\n",
    "all_distances = list(geo_cdist.reshape(-1, 1)[:,0])\n",
    "match_distances = np.min(geo_cdist, axis=1)\n",
    "\n",
    "subset_distances = random.sample(all_distances, geo_cdist.shape[0])\n",
    "f, ax1 = plt.subplots()\n",
    "ax1.set_xlabel('pair distances')\n",
    "ax1.set_ylabel('subset of all', color='C0')\n",
    "ax1.tick_params(axis='y', labelcolor='C0')\n",
    "sns.distplot(subset_distances, ax=ax1, label='all')\n",
    "ax2 = ax1.twinx()\n",
    "ax2.set_ylabel('closest match', color='C1') \n",
    "ax2.tick_params(axis='y', labelcolor='C1')\n",
    "sns.distplot(match_distances, ax=ax2, color='C1', label='nearest match')"
   ]
  },
  {
   "cell_type": "code",
   "execution_count": 20,
   "metadata": {},
   "outputs": [
    {
     "data": {
      "text/html": [
       "<div>\n",
       "<style scoped>\n",
       "    .dataframe tbody tr th:only-of-type {\n",
       "        vertical-align: middle;\n",
       "    }\n",
       "\n",
       "    .dataframe tbody tr th {\n",
       "        vertical-align: top;\n",
       "    }\n",
       "\n",
       "    .dataframe thead th {\n",
       "        text-align: right;\n",
       "    }\n",
       "</style>\n",
       "<table border=\"1\" class=\"dataframe\">\n",
       "  <thead>\n",
       "    <tr style=\"text-align: right;\">\n",
       "      <th></th>\n",
       "      <th>Code INSEE</th>\n",
       "      <th>Population</th>\n",
       "      <th>geo_point_2d</th>\n",
       "      <th>Commune</th>\n",
       "      <th>population</th>\n",
       "      <th>Code Postal</th>\n",
       "      <th>code_postal</th>\n",
       "      <th>lattitude</th>\n",
       "      <th>longitude</th>\n",
       "      <th>match_Code INSEE</th>\n",
       "    </tr>\n",
       "  </thead>\n",
       "  <tbody>\n",
       "    <tr>\n",
       "      <th>0</th>\n",
       "      <td>63402</td>\n",
       "      <td>0.3</td>\n",
       "      <td>45.9381159052,3.61132640921</td>\n",
       "      <td>SAINT-VICTOR-MONTVIANEIX</td>\n",
       "      <td>300</td>\n",
       "      <td>63550</td>\n",
       "      <td>63550</td>\n",
       "      <td>45.9381159052</td>\n",
       "      <td>3.61132640921</td>\n",
       "      <td>63231</td>\n",
       "    </tr>\n",
       "    <tr>\n",
       "      <th>1</th>\n",
       "      <td>26027</td>\n",
       "      <td>0.2</td>\n",
       "      <td>44.7264116116,5.30407617795</td>\n",
       "      <td>BARSAC</td>\n",
       "      <td>200</td>\n",
       "      <td>26150</td>\n",
       "      <td>26150</td>\n",
       "      <td>44.7264116116</td>\n",
       "      <td>5.30407617795</td>\n",
       "      <td>26113</td>\n",
       "    </tr>\n",
       "    <tr>\n",
       "      <th>2</th>\n",
       "      <td>42205</td>\n",
       "      <td>0.7</td>\n",
       "      <td>45.655161946,3.9261116009</td>\n",
       "      <td>SAINT-BONNET-LE-COURREAU</td>\n",
       "      <td>700</td>\n",
       "      <td>42940</td>\n",
       "      <td>42940</td>\n",
       "      <td>45.655161946</td>\n",
       "      <td>3.9261116009</td>\n",
       "      <td>42019</td>\n",
       "    </tr>\n",
       "    <tr>\n",
       "      <th>3</th>\n",
       "      <td>69063</td>\n",
       "      <td>3.8</td>\n",
       "      <td>45.8220411914,4.8419319446</td>\n",
       "      <td>COLLONGES-AU-MONT-D'OR</td>\n",
       "      <td>3800</td>\n",
       "      <td>69660</td>\n",
       "      <td>69660</td>\n",
       "      <td>45.8220411914</td>\n",
       "      <td>4.8419319446</td>\n",
       "      <td>69063</td>\n",
       "    </tr>\n",
       "    <tr>\n",
       "      <th>4</th>\n",
       "      <td>61502</td>\n",
       "      <td>0.1</td>\n",
       "      <td>48.4602912292,0.376581458211</td>\n",
       "      <td>VIDAI</td>\n",
       "      <td>100</td>\n",
       "      <td>61360</td>\n",
       "      <td>61360</td>\n",
       "      <td>48.4602912292</td>\n",
       "      <td>0.376581458211</td>\n",
       "      <td>72180</td>\n",
       "    </tr>\n",
       "    <tr>\n",
       "      <th>5</th>\n",
       "      <td>68308</td>\n",
       "      <td>0.3</td>\n",
       "      <td>47.7919119213,6.98580589371</td>\n",
       "      <td>SICKERT</td>\n",
       "      <td>300</td>\n",
       "      <td>68290</td>\n",
       "      <td>68290</td>\n",
       "      <td>47.7919119213</td>\n",
       "      <td>6.98580589371</td>\n",
       "      <td>68201</td>\n",
       "    </tr>\n",
       "    <tr>\n",
       "      <th>6</th>\n",
       "      <td>27396</td>\n",
       "      <td>0.4</td>\n",
       "      <td>49.3574004646,1.40684415026</td>\n",
       "      <td>MENESQUEVILLE</td>\n",
       "      <td>400</td>\n",
       "      <td>27850</td>\n",
       "      <td>27850</td>\n",
       "      <td>49.3574004646</td>\n",
       "      <td>1.40684415026</td>\n",
       "      <td>27246</td>\n",
       "    </tr>\n",
       "    <tr>\n",
       "      <th>7</th>\n",
       "      <td>54013</td>\n",
       "      <td>0.1</td>\n",
       "      <td>48.6300704003,6.78443520767</td>\n",
       "      <td>AMENONCOURT</td>\n",
       "      <td>100</td>\n",
       "      <td>54450</td>\n",
       "      <td>54450</td>\n",
       "      <td>48.6300704003</td>\n",
       "      <td>6.78443520767</td>\n",
       "      <td>54039</td>\n",
       "    </tr>\n",
       "    <tr>\n",
       "      <th>8</th>\n",
       "      <td>41192</td>\n",
       "      <td>0.3</td>\n",
       "      <td>47.7861085409,0.88757317848</td>\n",
       "      <td>LES ROCHES-L'EVEQUE</td>\n",
       "      <td>300</td>\n",
       "      <td>41800</td>\n",
       "      <td>41800</td>\n",
       "      <td>47.7861085409</td>\n",
       "      <td>0.88757317848</td>\n",
       "      <td>41149</td>\n",
       "    </tr>\n",
       "    <tr>\n",
       "      <th>9</th>\n",
       "      <td>58187</td>\n",
       "      <td>0.6</td>\n",
       "      <td>47.4543629223,2.94370342447</td>\n",
       "      <td>MYENNES</td>\n",
       "      <td>600</td>\n",
       "      <td>58440</td>\n",
       "      <td>58440</td>\n",
       "      <td>47.4543629223</td>\n",
       "      <td>2.94370342447</td>\n",
       "      <td>58086</td>\n",
       "    </tr>\n",
       "    <tr>\n",
       "      <th>10</th>\n",
       "      <td>28052</td>\n",
       "      <td>0.7</td>\n",
       "      <td>48.5606379303,1.51011696561</td>\n",
       "      <td>BOUGLAINVAL</td>\n",
       "      <td>700</td>\n",
       "      <td>28130</td>\n",
       "      <td>28130</td>\n",
       "      <td>48.5606379303</td>\n",
       "      <td>1.51011696561</td>\n",
       "      <td>28298</td>\n",
       "    </tr>\n",
       "    <tr>\n",
       "      <th>11</th>\n",
       "      <td>51558</td>\n",
       "      <td>0.1</td>\n",
       "      <td>48.9038402772,3.93440126624</td>\n",
       "      <td>SOULIERES</td>\n",
       "      <td>100</td>\n",
       "      <td>51130</td>\n",
       "      <td>51130</td>\n",
       "      <td>48.9038402772</td>\n",
       "      <td>3.93440126624</td>\n",
       "      <td>51612</td>\n",
       "    </tr>\n",
       "    <tr>\n",
       "      <th>12</th>\n",
       "      <td>65131</td>\n",
       "      <td>0.2</td>\n",
       "      <td>43.281097408,0.201372876533</td>\n",
       "      <td>CASTELVIEILH</td>\n",
       "      <td>200</td>\n",
       "      <td>65350</td>\n",
       "      <td>65350</td>\n",
       "      <td>43.281097408</td>\n",
       "      <td>0.201372876533</td>\n",
       "      <td>65047</td>\n",
       "    </tr>\n",
       "    <tr>\n",
       "      <th>13</th>\n",
       "      <td>72062</td>\n",
       "      <td>0.9</td>\n",
       "      <td>48.2270021313,0.583491271516</td>\n",
       "      <td>LA CHAPELLE-DU-BOIS</td>\n",
       "      <td>900</td>\n",
       "      <td>72400</td>\n",
       "      <td>72400</td>\n",
       "      <td>48.2270021313</td>\n",
       "      <td>0.583491271516</td>\n",
       "      <td>72132</td>\n",
       "    </tr>\n",
       "    <tr>\n",
       "      <th>14</th>\n",
       "      <td>17109</td>\n",
       "      <td>1.1</td>\n",
       "      <td>46.1423813762,-1.03660142128</td>\n",
       "      <td>CLAVETTE</td>\n",
       "      <td>1100</td>\n",
       "      <td>17220</td>\n",
       "      <td>17220</td>\n",
       "      <td>46.1423813762</td>\n",
       "      <td>-1.03660142128</td>\n",
       "      <td>17391</td>\n",
       "    </tr>\n",
       "  </tbody>\n",
       "</table>\n",
       "</div>"
      ],
      "text/plain": [
       "   Code INSEE  Population                  geo_point_2d  \\\n",
       "0       63402         0.3   45.9381159052,3.61132640921   \n",
       "1       26027         0.2   44.7264116116,5.30407617795   \n",
       "2       42205         0.7     45.655161946,3.9261116009   \n",
       "3       69063         3.8    45.8220411914,4.8419319446   \n",
       "4       61502         0.1  48.4602912292,0.376581458211   \n",
       "5       68308         0.3   47.7919119213,6.98580589371   \n",
       "6       27396         0.4   49.3574004646,1.40684415026   \n",
       "7       54013         0.1   48.6300704003,6.78443520767   \n",
       "8       41192         0.3   47.7861085409,0.88757317848   \n",
       "9       58187         0.6   47.4543629223,2.94370342447   \n",
       "10      28052         0.7   48.5606379303,1.51011696561   \n",
       "11      51558         0.1   48.9038402772,3.93440126624   \n",
       "12      65131         0.2   43.281097408,0.201372876533   \n",
       "13      72062         0.9  48.2270021313,0.583491271516   \n",
       "14      17109         1.1  46.1423813762,-1.03660142128   \n",
       "\n",
       "                     Commune  population Code Postal code_postal  \\\n",
       "0   SAINT-VICTOR-MONTVIANEIX         300       63550       63550   \n",
       "1                     BARSAC         200       26150       26150   \n",
       "2   SAINT-BONNET-LE-COURREAU         700       42940       42940   \n",
       "3     COLLONGES-AU-MONT-D'OR        3800       69660       69660   \n",
       "4                      VIDAI         100       61360       61360   \n",
       "5                    SICKERT         300       68290       68290   \n",
       "6              MENESQUEVILLE         400       27850       27850   \n",
       "7                AMENONCOURT         100       54450       54450   \n",
       "8        LES ROCHES-L'EVEQUE         300       41800       41800   \n",
       "9                    MYENNES         600       58440       58440   \n",
       "10               BOUGLAINVAL         700       28130       28130   \n",
       "11                 SOULIERES         100       51130       51130   \n",
       "12              CASTELVIEILH         200       65350       65350   \n",
       "13       LA CHAPELLE-DU-BOIS         900       72400       72400   \n",
       "14                  CLAVETTE        1100       17220       17220   \n",
       "\n",
       "        lattitude       longitude match_Code INSEE  \n",
       "0   45.9381159052   3.61132640921            63231  \n",
       "1   44.7264116116   5.30407617795            26113  \n",
       "2    45.655161946    3.9261116009            42019  \n",
       "3   45.8220411914    4.8419319446            69063  \n",
       "4   48.4602912292  0.376581458211            72180  \n",
       "5   47.7919119213   6.98580589371            68201  \n",
       "6   49.3574004646   1.40684415026            27246  \n",
       "7   48.6300704003   6.78443520767            54039  \n",
       "8   47.7861085409   0.88757317848            41149  \n",
       "9   47.4543629223   2.94370342447            58086  \n",
       "10  48.5606379303   1.51011696561            28298  \n",
       "11  48.9038402772   3.93440126624            51612  \n",
       "12   43.281097408  0.201372876533            65047  \n",
       "13  48.2270021313  0.583491271516            72132  \n",
       "14  46.1423813762  -1.03660142128            17391  "
      ]
     },
     "execution_count": 20,
     "metadata": {},
     "output_type": "execute_result"
    }
   ],
   "source": [
    "# pairwise distance between those two subsets \n",
    "geo_cdist = cdist(df_less[['lattitude', 'longitude']], df_more[['lattitude', 'longitude']])\n",
    "closest_index = np.argmin(geo_cdist, axis=1)\n",
    "# if population under threshold, match is closest municipality (min geo dist) amonngst those with population above threshold\n",
    "match_values = np.array([df_more.iloc[i][ref_column] for i in closest_index])\n",
    "# if population above threshold, match is self \n",
    "df[f'match_{ref_column}'] = df[ref_column]\n",
    "df.loc[df_less.index, f'match_{ref_column}'] = match_values\n",
    "df.head(15)"
   ]
  },
  {
   "cell_type": "code",
   "execution_count": 21,
   "metadata": {},
   "outputs": [],
   "source": [
    "# test matching is correct \n",
    "def test_row(row):\n",
    "    # if population greater than threshold\n",
    "    if row['population'] < N: \n",
    "        # assert ref_column match differs\n",
    "        assert row[ref_column] != row[f'match_{ref_column}']\n",
    "        # assert ref_column match has its population above threshold \n",
    "        df[df[ref_column] == row[ref_column]]['population'] >= N\n",
    "    else: # \n",
    "        # assert INSEE match is self \n",
    "        assert row[ref_column] == row[f'match_{ref_column}']\n",
    "n_rows = 1000 # set -1 to test the entire dataframe \n",
    "for k, row in df.iloc[:n_rows].iterrows():\n",
    "    test_row(row)"
   ]
  },
  {
   "cell_type": "code",
   "execution_count": 22,
   "metadata": {},
   "outputs": [
    {
     "name": "stderr",
     "output_type": "stream",
     "text": [
      "<ipython-input-22-e2bf7c032366>:4: FutureWarning: \n",
      "The current behaviour of 'Series.argmax' is deprecated, use 'idxmax'\n",
      "instead.\n",
      "The behavior of 'argmax' will be corrected to return the positional\n",
      "maximum in the future. For now, use 'series.values.argmax' or\n",
      "'np.argmax(np.array(values))' to get the position of the maximum\n",
      "row.\n",
      "  k_greatest = df[df[ref_column] == row[f'match_{ref_column}']]['population'].argmax()\n"
     ]
    }
   ],
   "source": [
    "# finaly, infer the matching post code \n",
    "# todo: this could (should) be optimized with groupby, idmax and join \n",
    "def get_match_post_code(row):\n",
    "    k_greatest = df[df[ref_column] == row[f'match_{ref_column}']]['population'].argmax()\n",
    "    return df.iloc[k_greatest]['code_postal']\n",
    "df['match_code_postal'] = df[[f'match_{ref_column}', 'population']].apply(get_match_post_code, axis=1)"
   ]
  },
  {
   "cell_type": "markdown",
   "metadata": {},
   "source": [
    "# Dump to json "
   ]
  },
  {
   "cell_type": "code",
   "execution_count": 23,
   "metadata": {},
   "outputs": [],
   "source": [
    "# dump to JSON \n",
    "matching_dict = dict(zip(df['code_postal'], df['match_code_postal']))\n",
    "with open('closest_zip.json', 'w') as outfile:\n",
    "    json.dump(matching_dict, outfile)"
   ]
  }
 ],
 "metadata": {
  "kernelspec": {
   "display_name": "Python 3",
   "language": "python",
   "name": "python3"
  },
  "language_info": {
   "codemirror_mode": {
    "name": "ipython",
    "version": 3
   },
   "file_extension": ".py",
   "mimetype": "text/x-python",
   "name": "python",
   "nbconvert_exporter": "python",
   "pygments_lexer": "ipython3",
   "version": "3.6.4"
  }
 },
 "nbformat": 4,
 "nbformat_minor": 2
}
