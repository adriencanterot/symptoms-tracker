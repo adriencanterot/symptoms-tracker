{
 "cells": [
  {
   "cell_type": "code",
   "execution_count": 5,
   "metadata": {},
   "outputs": [],
   "source": [
    "import matplotlib.pyplot as plt\n",
    "import numpy as np\n",
    "import pandas as pd\n",
    "import seaborn as sns"
   ]
  },
  {
   "cell_type": "markdown",
   "metadata": {},
   "source": [
    "## Loading and joining data"
   ]
  },
  {
   "cell_type": "markdown",
   "metadata": {},
   "source": [
    "### Loading INSEE codes"
   ]
  },
  {
   "cell_type": "code",
   "execution_count": 35,
   "metadata": {},
   "outputs": [],
   "source": [
    "df = pd.read_csv('insee-populations.csv', delimiter=\";\")[['Population totale', 'Code département', 'Code commune', 'Nom de la commune']]\n",
    "df[\"code_insee\"] = np.where(df['Code département'].apply(str).str.len() == 3, df[\"Code département\"].apply(str).str[:1] + df[\"Code commune\"].apply(str).str.zfill(3), df[\"Code département\"] + df[\"Code commune\"].apply(str).str.zfill(3))\n",
    "df = df.set_index(\"code_insee\")\n",
    "df['population_totale'] = df['Population totale'].str.replace('\\xa0', '').apply(int)"
   ]
  },
  {
   "cell_type": "code",
   "execution_count": 36,
   "metadata": {},
   "outputs": [
    {
     "data": {
      "text/plain": [
       "(35441, 5)"
      ]
     },
     "execution_count": 36,
     "metadata": {},
     "output_type": "execute_result"
    }
   ],
   "source": [
    "df.shape"
   ]
  },
  {
   "cell_type": "code",
   "execution_count": 37,
   "metadata": {},
   "outputs": [
    {
     "data": {
      "text/html": [
       "<div>\n",
       "<style scoped>\n",
       "    .dataframe tbody tr th:only-of-type {\n",
       "        vertical-align: middle;\n",
       "    }\n",
       "\n",
       "    .dataframe tbody tr th {\n",
       "        vertical-align: top;\n",
       "    }\n",
       "\n",
       "    .dataframe thead th {\n",
       "        text-align: right;\n",
       "    }\n",
       "</style>\n",
       "<table border=\"1\" class=\"dataframe\">\n",
       "  <thead>\n",
       "    <tr style=\"text-align: right;\">\n",
       "      <th></th>\n",
       "      <th>Population totale</th>\n",
       "      <th>Code département</th>\n",
       "      <th>Code commune</th>\n",
       "      <th>Nom de la commune</th>\n",
       "      <th>population_totale</th>\n",
       "    </tr>\n",
       "    <tr>\n",
       "      <th>code_insee</th>\n",
       "      <th></th>\n",
       "      <th></th>\n",
       "      <th></th>\n",
       "      <th></th>\n",
       "      <th></th>\n",
       "    </tr>\n",
       "  </thead>\n",
       "  <tbody>\n",
       "    <tr>\n",
       "      <th>01001</th>\n",
       "      <td>785</td>\n",
       "      <td>01</td>\n",
       "      <td>1</td>\n",
       "      <td>L' Abergement-Clémenciat</td>\n",
       "      <td>785</td>\n",
       "    </tr>\n",
       "    <tr>\n",
       "      <th>01002</th>\n",
       "      <td>242</td>\n",
       "      <td>01</td>\n",
       "      <td>2</td>\n",
       "      <td>L' Abergement-de-Varey</td>\n",
       "      <td>242</td>\n",
       "    </tr>\n",
       "    <tr>\n",
       "      <th>01004</th>\n",
       "      <td>14 631</td>\n",
       "      <td>01</td>\n",
       "      <td>4</td>\n",
       "      <td>Ambérieu-en-Bugey</td>\n",
       "      <td>14631</td>\n",
       "    </tr>\n",
       "    <tr>\n",
       "      <th>01005</th>\n",
       "      <td>1 652</td>\n",
       "      <td>01</td>\n",
       "      <td>5</td>\n",
       "      <td>Ambérieux-en-Dombes</td>\n",
       "      <td>1652</td>\n",
       "    </tr>\n",
       "    <tr>\n",
       "      <th>01006</th>\n",
       "      <td>115</td>\n",
       "      <td>01</td>\n",
       "      <td>6</td>\n",
       "      <td>Ambléon</td>\n",
       "      <td>115</td>\n",
       "    </tr>\n",
       "  </tbody>\n",
       "</table>\n",
       "</div>"
      ],
      "text/plain": [
       "           Population totale Code département  Code commune  \\\n",
       "code_insee                                                    \n",
       "01001                    785               01             1   \n",
       "01002                    242               01             2   \n",
       "01004                 14 631               01             4   \n",
       "01005                  1 652               01             5   \n",
       "01006                    115               01             6   \n",
       "\n",
       "                   Nom de la commune  population_totale  \n",
       "code_insee                                               \n",
       "01001       L' Abergement-Clémenciat                785  \n",
       "01002         L' Abergement-de-Varey                242  \n",
       "01004              Ambérieu-en-Bugey              14631  \n",
       "01005            Ambérieux-en-Dombes               1652  \n",
       "01006                        Ambléon                115  "
      ]
     },
     "execution_count": 37,
     "metadata": {},
     "output_type": "execute_result"
    }
   ],
   "source": [
    "df.head()"
   ]
  },
  {
   "cell_type": "markdown",
   "metadata": {},
   "source": [
    "### Population per city distribution"
   ]
  },
  {
   "cell_type": "code",
   "execution_count": 15,
   "metadata": {},
   "outputs": [
    {
     "data": {
      "text/plain": [
       "<matplotlib.axes._subplots.AxesSubplot at 0x7f40f4091ef0>"
      ]
     },
     "execution_count": 15,
     "metadata": {},
     "output_type": "execute_result"
    },
    {
     "data": {
      "image/png": "[encoded data removed]",
      "text/plain": [
       "<matplotlib.figure.Figure at 0x7f40f3f64ef0>"
      ]
     },
     "metadata": {},
     "output_type": "display_data"
    }
   ],
   "source": [
    "sns.distplot(df['population_totale'])"
   ]
  },
  {
   "cell_type": "code",
   "execution_count": 17,
   "metadata": {},
   "outputs": [
    {
     "data": {
      "text/plain": [
       "<matplotlib.axes._subplots.AxesSubplot at 0x7f40f4128b70>"
      ]
     },
     "execution_count": 17,
     "metadata": {},
     "output_type": "execute_result"
    },
    {
     "data": {
      "image/png": "[encoded data removed]",
      "text/plain": [
       "<matplotlib.figure.Figure at 0x7f40f4143550>"
      ]
     },
     "metadata": {},
     "output_type": "display_data"
    }
   ],
   "source": [
    "sns.distplot(df[df['population_totale'] < 5000]['population_totale'])"
   ]
  },
  {
   "cell_type": "markdown",
   "metadata": {},
   "source": [
    "### Cumulative population"
   ]
  },
  {
   "cell_type": "code",
   "execution_count": 19,
   "metadata": {},
   "outputs": [],
   "source": [
    "grouped = df.groupby(by=['population_totale'])['population_totale'].sum()\n",
    "cumulative = np.cumsum(grouped) / grouped.sum()"
   ]
  },
  {
   "cell_type": "code",
   "execution_count": 58,
   "metadata": {},
   "outputs": [],
   "source": [
    "def stats(inhabitants):\n",
    "    print('< {} inhabitants: {:2.2%} of population, {} cities'.format(inhabitants, cumulative[inhabitants], df[df['population_totale'] > inhabitants].shape[0]))"
   ]
  },
  {
   "cell_type": "code",
   "execution_count": 60,
   "metadata": {},
   "outputs": [
    {
     "name": "stdout",
     "output_type": "stream",
     "text": [
      "< 1000 inhabitants: 13.38% of population, 10083 cities\n",
      "< 2000 inhabitants: 22.94% of population, 5461 cities\n",
      "< 3000 inhabitants: 29.15% of population, 3740 cities\n"
     ]
    },
    {
     "data": {
      "text/plain": [
       "(None, None, None)"
      ]
     },
     "execution_count": 60,
     "metadata": {},
     "output_type": "execute_result"
    }
   ],
   "source": [
    "stats(1000), stats(2000), stats(3000)"
   ]
  },
  {
   "cell_type": "code",
   "execution_count": 61,
   "metadata": {},
   "outputs": [
    {
     "data": {
      "text/plain": [
       "1637"
      ]
     },
     "execution_count": 61,
     "metadata": {},
     "output_type": "execute_result"
    }
   ],
   "source": [
    "cumulative[cumulative > 0.20].index[0]"
   ]
  },
  {
   "cell_type": "code",
   "execution_count": 43,
   "metadata": {
    "collapsed": true
   },
   "outputs": [
    {
     "data": {
      "text/plain": [
       "(0.13380600944671844,\n",
       " 0.2294311448020463,\n",
       " 0.29150787513974086,\n",
       " 0.37719947878011545)"
      ]
     },
     "execution_count": 43,
     "metadata": {},
     "output_type": "execute_result"
    }
   ],
   "source": [
    "cumulative[1000], cumulative[2000], cumulative[3000], cumulative[5000]"
   ]
  },
  {
   "cell_type": "code",
   "execution_count": 42,
   "metadata": {},
   "outputs": [
    {
     "data": {
      "text/plain": [
       "(10083, 5461, 3740, 2233)"
      ]
     },
     "execution_count": 42,
     "metadata": {},
     "output_type": "execute_result"
    }
   ],
   "source": [
    "df[df['population_totale'] > 1000].shape[0], df[df['population_totale'] > 2000].shape[0], df[df['population_totale'] > 3000].shape[0], df[df['population_totale'] > 5000].shape[0]"
   ]
  },
  {
   "cell_type": "code",
   "execution_count": 136,
   "metadata": {},
   "outputs": [
    {
     "data": {
      "text/plain": [
       "[<matplotlib.lines.Line2D at 0x7f3d344b8c50>]"
      ]
     },
     "execution_count": 136,
     "metadata": {},
     "output_type": "execute_result"
    },
    {
     "data": {
      "image/png": "[encoded data removed]",
      "text/plain": [
       "<matplotlib.figure.Figure at 0x7f3d55bd16d8>"
      ]
     },
     "metadata": {},
     "output_type": "display_data"
    }
   ],
   "source": [
    "plt.plot(cumulative / grouped.sum())"
   ]
  },
  {
   "cell_type": "markdown",
   "metadata": {},
   "source": [
    "* 22% of the French population lives in cities which have < 2000 inhabitants\n",
    "* there are 3 700 cities with 3000+ inhabitants, which is roughly the number of healthcare facilities in France"
   ]
  },
  {
   "cell_type": "markdown",
   "metadata": {},
   "source": [
    "### Load zipcodes"
   ]
  },
  {
   "cell_type": "code",
   "execution_count": 31,
   "metadata": {},
   "outputs": [],
   "source": [
    "ldf = pd.read_csv('laposte_hexasmal.csv', delimiter=\";\")[['Code_commune_INSEE', 'coordonnees_gps', 'Code_postal']]\n",
    "ldf = ldf.set_index(\"Code_commune_INSEE\")\n",
    "ldf['code_postal'] = ldf[\"Code_postal\"].apply(str).str.zfill(5)"
   ]
  },
  {
   "cell_type": "code",
   "execution_count": 33,
   "metadata": {},
   "outputs": [
    {
     "data": {
      "text/plain": [
       "(39192, 3)"
      ]
     },
     "execution_count": 33,
     "metadata": {},
     "output_type": "execute_result"
    }
   ],
   "source": [
    "ldf.shape"
   ]
  },
  {
   "cell_type": "code",
   "execution_count": 32,
   "metadata": {},
   "outputs": [
    {
     "data": {
      "text/html": [
       "<div>\n",
       "<style scoped>\n",
       "    .dataframe tbody tr th:only-of-type {\n",
       "        vertical-align: middle;\n",
       "    }\n",
       "\n",
       "    .dataframe tbody tr th {\n",
       "        vertical-align: top;\n",
       "    }\n",
       "\n",
       "    .dataframe thead th {\n",
       "        text-align: right;\n",
       "    }\n",
       "</style>\n",
       "<table border=\"1\" class=\"dataframe\">\n",
       "  <thead>\n",
       "    <tr style=\"text-align: right;\">\n",
       "      <th></th>\n",
       "      <th>coordonnees_gps</th>\n",
       "      <th>Code_postal</th>\n",
       "      <th>code_postal</th>\n",
       "    </tr>\n",
       "    <tr>\n",
       "      <th>Code_commune_INSEE</th>\n",
       "      <th></th>\n",
       "      <th></th>\n",
       "      <th></th>\n",
       "    </tr>\n",
       "  </thead>\n",
       "  <tbody>\n",
       "    <tr>\n",
       "      <th>01001</th>\n",
       "      <td>46.1534255214,4.92611354223</td>\n",
       "      <td>1400</td>\n",
       "      <td>01400</td>\n",
       "    </tr>\n",
       "    <tr>\n",
       "      <th>01005</th>\n",
       "      <td>45.9961799872,4.91227250796</td>\n",
       "      <td>1330</td>\n",
       "      <td>01330</td>\n",
       "    </tr>\n",
       "    <tr>\n",
       "      <th>01009</th>\n",
       "      <td>45.7873565333,5.65788307924</td>\n",
       "      <td>1300</td>\n",
       "      <td>01300</td>\n",
       "    </tr>\n",
       "    <tr>\n",
       "      <th>01017</th>\n",
       "      <td>45.9337182132,5.48251100314</td>\n",
       "      <td>1230</td>\n",
       "      <td>01230</td>\n",
       "    </tr>\n",
       "    <tr>\n",
       "      <th>01019</th>\n",
       "      <td>45.8541838459,5.58357838695</td>\n",
       "      <td>1510</td>\n",
       "      <td>01510</td>\n",
       "    </tr>\n",
       "  </tbody>\n",
       "</table>\n",
       "</div>"
      ],
      "text/plain": [
       "                                coordonnees_gps  Code_postal code_postal\n",
       "Code_commune_INSEE                                                      \n",
       "01001               46.1534255214,4.92611354223         1400       01400\n",
       "01005               45.9961799872,4.91227250796         1330       01330\n",
       "01009               45.7873565333,5.65788307924         1300       01300\n",
       "01017               45.9337182132,5.48251100314         1230       01230\n",
       "01019               45.8541838459,5.58357838695         1510       01510"
      ]
     },
     "execution_count": 32,
     "metadata": {},
     "output_type": "execute_result"
    }
   ],
   "source": [
    "ldf.head()"
   ]
  },
  {
   "cell_type": "markdown",
   "metadata": {},
   "source": [
    "### Joining datasets"
   ]
  },
  {
   "cell_type": "code",
   "execution_count": 74,
   "metadata": {},
   "outputs": [],
   "source": [
    "joined = ldf.join(df, how=\"inner\")"
   ]
  },
  {
   "cell_type": "code",
   "execution_count": 75,
   "metadata": {},
   "outputs": [
    {
     "data": {
      "text/plain": [
       "(38716, 7)"
      ]
     },
     "execution_count": 75,
     "metadata": {},
     "output_type": "execute_result"
    }
   ],
   "source": [
    "joined.shape"
   ]
  },
  {
   "cell_type": "code",
   "execution_count": 76,
   "metadata": {},
   "outputs": [
    {
     "data": {
      "text/html": [
       "<div>\n",
       "<style scoped>\n",
       "    .dataframe tbody tr th:only-of-type {\n",
       "        vertical-align: middle;\n",
       "    }\n",
       "\n",
       "    .dataframe tbody tr th {\n",
       "        vertical-align: top;\n",
       "    }\n",
       "\n",
       "    .dataframe thead th {\n",
       "        text-align: right;\n",
       "    }\n",
       "</style>\n",
       "<table border=\"1\" class=\"dataframe\">\n",
       "  <thead>\n",
       "    <tr style=\"text-align: right;\">\n",
       "      <th></th>\n",
       "      <th>coordonnees_gps</th>\n",
       "      <th>Nom_commune</th>\n",
       "      <th>Code_postal</th>\n",
       "      <th>Population totale</th>\n",
       "      <th>Code département</th>\n",
       "      <th>Code commune</th>\n",
       "      <th>Nom de la commune</th>\n",
       "    </tr>\n",
       "  </thead>\n",
       "  <tbody>\n",
       "    <tr>\n",
       "      <th>01001</th>\n",
       "      <td>46.1534255214,4.92611354223</td>\n",
       "      <td>L ABERGEMENT CLEMENCIAT</td>\n",
       "      <td>1400</td>\n",
       "      <td>785</td>\n",
       "      <td>01</td>\n",
       "      <td>1</td>\n",
       "      <td>L' Abergement-Clémenciat</td>\n",
       "    </tr>\n",
       "    <tr>\n",
       "      <th>01002</th>\n",
       "      <td>46.0091878776,5.42801696363</td>\n",
       "      <td>L ABERGEMENT DE VAREY</td>\n",
       "      <td>1640</td>\n",
       "      <td>242</td>\n",
       "      <td>01</td>\n",
       "      <td>2</td>\n",
       "      <td>L' Abergement-de-Varey</td>\n",
       "    </tr>\n",
       "    <tr>\n",
       "      <th>01004</th>\n",
       "      <td>45.9608475114,5.3729257777</td>\n",
       "      <td>AMBERIEU EN BUGEY</td>\n",
       "      <td>1500</td>\n",
       "      <td>14 631</td>\n",
       "      <td>01</td>\n",
       "      <td>4</td>\n",
       "      <td>Ambérieu-en-Bugey</td>\n",
       "    </tr>\n",
       "    <tr>\n",
       "      <th>01005</th>\n",
       "      <td>45.9961799872,4.91227250796</td>\n",
       "      <td>AMBERIEUX EN DOMBES</td>\n",
       "      <td>1330</td>\n",
       "      <td>1 652</td>\n",
       "      <td>01</td>\n",
       "      <td>5</td>\n",
       "      <td>Ambérieux-en-Dombes</td>\n",
       "    </tr>\n",
       "    <tr>\n",
       "      <th>01006</th>\n",
       "      <td>45.7494989044,5.59432017366</td>\n",
       "      <td>AMBLEON</td>\n",
       "      <td>1300</td>\n",
       "      <td>115</td>\n",
       "      <td>01</td>\n",
       "      <td>6</td>\n",
       "      <td>Ambléon</td>\n",
       "    </tr>\n",
       "  </tbody>\n",
       "</table>\n",
       "</div>"
      ],
      "text/plain": [
       "                   coordonnees_gps              Nom_commune  Code_postal  \\\n",
       "01001  46.1534255214,4.92611354223  L ABERGEMENT CLEMENCIAT         1400   \n",
       "01002  46.0091878776,5.42801696363    L ABERGEMENT DE VAREY         1640   \n",
       "01004   45.9608475114,5.3729257777        AMBERIEU EN BUGEY         1500   \n",
       "01005  45.9961799872,4.91227250796      AMBERIEUX EN DOMBES         1330   \n",
       "01006  45.7494989044,5.59432017366                  AMBLEON         1300   \n",
       "\n",
       "      Population totale Code département  Code commune  \\\n",
       "01001               785               01             1   \n",
       "01002               242               01             2   \n",
       "01004            14 631               01             4   \n",
       "01005             1 652               01             5   \n",
       "01006               115               01             6   \n",
       "\n",
       "              Nom de la commune  \n",
       "01001  L' Abergement-Clémenciat  \n",
       "01002    L' Abergement-de-Varey  \n",
       "01004         Ambérieu-en-Bugey  \n",
       "01005       Ambérieux-en-Dombes  \n",
       "01006                   Ambléon  "
      ]
     },
     "execution_count": 76,
     "metadata": {},
     "output_type": "execute_result"
    }
   ],
   "source": [
    "joined.head()"
   ]
  }
 ],
 "metadata": {
  "kernelspec": {
   "display_name": "Python 3",
   "language": "python",
   "name": "python3"
  },
  "language_info": {
   "codemirror_mode": {
    "name": "ipython",
    "version": 3
   },
   "file_extension": ".py",
   "mimetype": "text/x-python",
   "name": "python",
   "nbconvert_exporter": "python",
   "pygments_lexer": "ipython3",
   "version": "3.6.4"
  }
 },
 "nbformat": 4,
 "nbformat_minor": 2
}
