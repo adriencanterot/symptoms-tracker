{
 "cells": [
  {
   "cell_type": "code",
   "execution_count": 1,
   "metadata": {},
   "outputs": [],
   "source": [
    "import json\n",
    "import matplotlib.pyplot as plt\n",
    "import numpy as np\n",
    "import pandas as pd\n",
    "import random \n",
    "from scipy.spatial.distance import cdist\n",
    "import seaborn as sns"
   ]
  },
  {
   "cell_type": "markdown",
   "metadata": {},
   "source": [
    "## Loading and preparing data"
   ]
  },
  {
   "cell_type": "markdown",
   "metadata": {},
   "source": [
    "### Loading INSEE codes\n",
    "Download from [here](https://public.opendatasoft.com/explore/dataset/correspondance-code-insee-code-postal/export/). \n"
   ]
  },
  {
   "cell_type": "code",
   "execution_count": 2,
   "metadata": {},
   "outputs": [],
   "source": [
    "df = pd.read_csv('correspondance-code-insee-code-postal.csv', delimiter=\";\")[['Code Postal', 'Code INSEE', 'Population', 'geo_point_2d', 'Commune']]\n",
    "df['population'] = (df['Population'].astype(float)*1000).apply(int)\n",
    "df.drop_duplicates(inplace=True)"
   ]
  },
  {
   "cell_type": "code",
   "execution_count": 3,
   "metadata": {},
   "outputs": [
    {
     "data": {
      "text/plain": [
       "(36742, 6)"
      ]
     },
     "execution_count": 3,
     "metadata": {},
     "output_type": "execute_result"
    }
   ],
   "source": [
    "df.shape"
   ]
  },
  {
   "cell_type": "code",
   "execution_count": 4,
   "metadata": {},
   "outputs": [
    {
     "data": {
      "text/html": [
       "<div>\n",
       "<style scoped>\n",
       "    .dataframe tbody tr th:only-of-type {\n",
       "        vertical-align: middle;\n",
       "    }\n",
       "\n",
       "    .dataframe tbody tr th {\n",
       "        vertical-align: top;\n",
       "    }\n",
       "\n",
       "    .dataframe thead th {\n",
       "        text-align: right;\n",
       "    }\n",
       "</style>\n",
       "<table border=\"1\" class=\"dataframe\">\n",
       "  <thead>\n",
       "    <tr style=\"text-align: right;\">\n",
       "      <th></th>\n",
       "      <th>Code Postal</th>\n",
       "      <th>Code INSEE</th>\n",
       "      <th>Population</th>\n",
       "      <th>geo_point_2d</th>\n",
       "      <th>Commune</th>\n",
       "      <th>population</th>\n",
       "    </tr>\n",
       "  </thead>\n",
       "  <tbody>\n",
       "    <tr>\n",
       "      <th>0</th>\n",
       "      <td>63550</td>\n",
       "      <td>63402</td>\n",
       "      <td>0.3</td>\n",
       "      <td>45.9381159052,3.61132640921</td>\n",
       "      <td>SAINT-VICTOR-MONTVIANEIX</td>\n",
       "      <td>300</td>\n",
       "    </tr>\n",
       "    <tr>\n",
       "      <th>1</th>\n",
       "      <td>26150</td>\n",
       "      <td>26027</td>\n",
       "      <td>0.2</td>\n",
       "      <td>44.7264116116,5.30407617795</td>\n",
       "      <td>BARSAC</td>\n",
       "      <td>200</td>\n",
       "    </tr>\n",
       "    <tr>\n",
       "      <th>2</th>\n",
       "      <td>42940</td>\n",
       "      <td>42205</td>\n",
       "      <td>0.7</td>\n",
       "      <td>45.655161946,3.9261116009</td>\n",
       "      <td>SAINT-BONNET-LE-COURREAU</td>\n",
       "      <td>700</td>\n",
       "    </tr>\n",
       "    <tr>\n",
       "      <th>3</th>\n",
       "      <td>69660</td>\n",
       "      <td>69063</td>\n",
       "      <td>3.8</td>\n",
       "      <td>45.8220411914,4.8419319446</td>\n",
       "      <td>COLLONGES-AU-MONT-D'OR</td>\n",
       "      <td>3800</td>\n",
       "    </tr>\n",
       "    <tr>\n",
       "      <th>4</th>\n",
       "      <td>61360</td>\n",
       "      <td>61502</td>\n",
       "      <td>0.1</td>\n",
       "      <td>48.4602912292,0.376581458211</td>\n",
       "      <td>VIDAI</td>\n",
       "      <td>100</td>\n",
       "    </tr>\n",
       "  </tbody>\n",
       "</table>\n",
       "</div>"
      ],
      "text/plain": [
       "  Code Postal Code INSEE  Population                  geo_point_2d  \\\n",
       "0       63550      63402         0.3   45.9381159052,3.61132640921   \n",
       "1       26150      26027         0.2   44.7264116116,5.30407617795   \n",
       "2       42940      42205         0.7     45.655161946,3.9261116009   \n",
       "3       69660      69063         3.8    45.8220411914,4.8419319446   \n",
       "4       61360      61502         0.1  48.4602912292,0.376581458211   \n",
       "\n",
       "                    Commune  population  \n",
       "0  SAINT-VICTOR-MONTVIANEIX         300  \n",
       "1                    BARSAC         200  \n",
       "2  SAINT-BONNET-LE-COURREAU         700  \n",
       "3    COLLONGES-AU-MONT-D'OR        3800  \n",
       "4                     VIDAI         100  "
      ]
     },
     "execution_count": 4,
     "metadata": {},
     "output_type": "execute_result"
    }
   ],
   "source": [
    "df.head()"
   ]
  },
  {
   "cell_type": "markdown",
   "metadata": {},
   "source": [
    "### Prepare the data "
   ]
  },
  {
   "cell_type": "code",
   "execution_count": 5,
   "metadata": {},
   "outputs": [],
   "source": [
    "# df is something like\n",
    "#      Code INSEE  Code Postal           Commune\n",
    "# 1392      45234  45000/45100           ORLEANS\n",
    "# 2528      63113  63000/63100  CLERMONT-FERRAND\n",
    "# 4996      60048  60113/60190             BAUGY\n",
    "# ..\n",
    "# df_codes has index to code postal:\n",
    "# 1392    [45000, 45100]\n",
    "# 2528    [63000, 63100]\n",
    "# 4996    [60113, 60190]\n",
    "df_codes = df['Code Postal'].str.split('/')\n",
    "\n",
    "# df_code_postal has the flat version of df_codes\n",
    "#      Code Postal\n",
    "# 1392       45000\n",
    "# 1392       45100\n",
    "# 2528       63000\n",
    "# 2528       63100\n",
    "# 4996       60113\n",
    "# 4996       60190\n",
    "df_code_postal = pd.concat(\n",
    "    [pd.Series(codes, index=[index] * len(codes), name='Code Postal')\n",
    "     for index, codes in df_codes.iteritems()]\n",
    ").to_frame()\n",
    "\n",
    "# join and reindex with original, giving\n",
    "#      Code INSEE           Commune Code Postal\n",
    "# 1392      45234           ORLEANS       45000\n",
    "# 1392      45234           ORLEANS       45100\n",
    "# 2528      63113  CLERMONT-FERRAND       63000\n",
    "# 2528      63113  CLERMONT-FERRAND       63100\n",
    "# 4996      60048             BAUGY       60113\n",
    "# 4996      60048             BAUGY       60190\n",
    "df = df.drop(columns='Code Postal').join(df_code_postal)\n",
    "df['code_postal'] = df[\"Code Postal\"].apply(str).str.zfill(5)\n",
    "# reset index\n",
    "df.reset_index(inplace=True, drop=True)"
   ]
  },
  {
   "cell_type": "markdown",
   "metadata": {},
   "source": [
    "## Visualize the distributions and choose N "
   ]
  },
  {
   "cell_type": "markdown",
   "metadata": {},
   "source": [
    "### Population per city distribution"
   ]
  },
  {
   "cell_type": "code",
   "execution_count": 6,
   "metadata": {},
   "outputs": [
    {
     "data": {
      "text/plain": [
       "<matplotlib.axes._subplots.AxesSubplot at 0x7ff250761670>"
      ]
     },
     "execution_count": 6,
     "metadata": {},
     "output_type": "execute_result"
    },
    {
     "data": {
      "image/png": "[encoded data removed]",
      "text/plain": [
       "<Figure size 432x288 with 1 Axes>"
      ]
     },
     "metadata": {
      "needs_background": "light"
     },
     "output_type": "display_data"
    }
   ],
   "source": [
    "sns.distplot(df['population'])"
   ]
  },
  {
   "cell_type": "code",
   "execution_count": 7,
   "metadata": {},
   "outputs": [
    {
     "data": {
      "text/plain": [
       "<matplotlib.axes._subplots.AxesSubplot at 0x7ff239d48a90>"
      ]
     },
     "execution_count": 7,
     "metadata": {},
     "output_type": "execute_result"
    },
    {
     "data": {
      "image/png": "[encoded data removed]",
      "text/plain": [
       "<Figure size 432x288 with 1 Axes>"
      ]
     },
     "metadata": {
      "needs_background": "light"
     },
     "output_type": "display_data"
    }
   ],
   "source": [
    "sns.distplot(df[df['population'] < 5000]['population'])"
   ]
  },
  {
   "cell_type": "markdown",
   "metadata": {},
   "source": [
    "### Cumulative population"
   ]
  },
  {
   "cell_type": "code",
   "execution_count": 8,
   "metadata": {},
   "outputs": [],
   "source": [
    "grouped = df.groupby(by=['population'])['population'].sum()\n",
    "cumulative = np.cumsum(grouped) / grouped.sum()"
   ]
  },
  {
   "cell_type": "code",
   "execution_count": 9,
   "metadata": {},
   "outputs": [],
   "source": [
    "def stats(inhabitants):\n",
    "    print('< {} inhabitants: {:2.2%} of population, {} cities'.format(inhabitants, cumulative[inhabitants], df[df['population'] > inhabitants].shape[0]))"
   ]
  },
  {
   "cell_type": "code",
   "execution_count": 10,
   "metadata": {},
   "outputs": [
    {
     "name": "stdout",
     "output_type": "stream",
     "text": [
      "< 1000 inhabitants: 12.87% of population, 9300 cities\n",
      "< 2000 inhabitants: 20.81% of population, 5082 cities\n",
      "< 3000 inhabitants: 25.88% of population, 3509 cities\n"
     ]
    },
    {
     "data": {
      "text/plain": [
       "(None, None, None)"
      ]
     },
     "execution_count": 10,
     "metadata": {},
     "output_type": "execute_result"
    }
   ],
   "source": [
    "stats(1000), stats(2000), stats(3000)"
   ]
  },
  {
   "cell_type": "code",
   "execution_count": 11,
   "metadata": {},
   "outputs": [
    {
     "data": {
      "text/plain": [
       "1900"
      ]
     },
     "execution_count": 11,
     "metadata": {},
     "output_type": "execute_result"
    }
   ],
   "source": [
    "cumulative[cumulative > 0.20].index[0]"
   ]
  },
  {
   "cell_type": "code",
   "execution_count": 12,
   "metadata": {},
   "outputs": [
    {
     "data": {
      "text/plain": [
       "(0.1287037109126629,\n",
       " 0.2080644031111561,\n",
       " 0.2587582365963101,\n",
       " 0.3281325018231458)"
      ]
     },
     "execution_count": 12,
     "metadata": {},
     "output_type": "execute_result"
    }
   ],
   "source": [
    "cumulative[1000], cumulative[2000], cumulative[3000], cumulative[5000]"
   ]
  },
  {
   "cell_type": "code",
   "execution_count": 13,
   "metadata": {},
   "outputs": [
    {
     "data": {
      "text/plain": [
       "(9300, 5082, 3509, 2126)"
      ]
     },
     "execution_count": 13,
     "metadata": {},
     "output_type": "execute_result"
    }
   ],
   "source": [
    "df[df['population'] > 1000].shape[0], df[df['population'] > 2000].shape[0], df[df['population'] > 3000].shape[0], df[df['population'] > 5000].shape[0]"
   ]
  },
  {
   "cell_type": "code",
   "execution_count": 14,
   "metadata": {},
   "outputs": [
    {
     "data": {
      "text/plain": [
       "[<matplotlib.lines.Line2D at 0x7ff260f01130>]"
      ]
     },
     "execution_count": 14,
     "metadata": {},
     "output_type": "execute_result"
    },
    {
     "data": {
      "image/png": "[encoded data removed]",
      "text/plain": [
       "<Figure size 432x288 with 1 Axes>"
      ]
     },
     "metadata": {
      "needs_background": "light"
     },
     "output_type": "display_data"
    }
   ],
   "source": [
    "plt.plot(cumulative / grouped.sum())"
   ]
  },
  {
   "cell_type": "markdown",
   "metadata": {},
   "source": [
    "* 22% of the French population lives in cities which have < 2000 inhabitants\n",
    "* there are 3 700 cities with 3000+ inhabitants, which is roughly the number of healthcare facilities in France"
   ]
  },
  {
   "cell_type": "markdown",
   "metadata": {},
   "source": [
    "## Generate mappings from postcode to closest postcode having more than N habitants"
   ]
  },
  {
   "cell_type": "code",
   "execution_count": 15,
   "metadata": {},
   "outputs": [],
   "source": [
    "# Some postcodes are ambiguous because they correspond to many communes \n",
    "# Let us match them  to the commune with the greatest population \n",
    "# Small example:\n",
    "#       Code INSEE    postal_code   population                Commune\n",
    "# 31141      01344         10000        5400  SAINT-DENIS-LES-BOURG\n",
    "# 6230       01053         10000       39600        BOURG-EN-BRESSE\n",
    "# 12183      01183         10900        1300               GUEREINS\n",
    "# 25930      01225         10900         400                  LURCY\n",
    "# 23594      01258         10900        1100              MONTCEAUX\n",
    "# 32294      01263         10900        3800    MONTMERLE-SUR-SAONE\n",
    "# 7186       01169         10900         600            GENOUILLEUX\n",
    "# 32418      01165         10900        1300           FRANCHELEINS\n",
    "# 19343      01014         11000        3500                 ARBENT\n",
    "# 21340      01031         11000        3500              BELLIGNAT\n",
    "\n",
    "# calculate max index by code postal, giving\n",
    "# 31141     6230   # << note this is the index not a integer position!\n",
    "# 6230      6230\n",
    "# 12183    32294\n",
    "# 25930    32294\n",
    "# 23594    32294\n",
    "# 32294    32294\n",
    "# 7186     32294\n",
    "# 32418    32294\n",
    "# 19343    19343\n",
    "# 21340    19343\n",
    "idx_max_pop = df.groupby('code_postal')['population'].apply(pd.Series.idxmax)\n",
    "\n",
    "# Select using index\n",
    "#         postal_code Code INSEE  population              Commune\n",
    "# 6230          10000      01053       39600      BOURG-EN-BRESSE\n",
    "# 6230          10000      01053       39600      BOURG-EN-BRESSE\n",
    "# 32294         10900      01263        3800  MONTMERLE-SUR-SAONE\n",
    "# 32294         10900      01263        3800  MONTMERLE-SUR-SAONE\n",
    "# 32294         10900      01263        3800  MONTMERLE-SUR-SAONE\n",
    "# 32294         10900      01263        3800  MONTMERLE-SUR-SAONE\n",
    "# 32294         10900      01263        3800  MONTMERLE-SUR-SAONE\n",
    "# 32294         10900      01263        3800  MONTMERLE-SUR-SAONE\n",
    "# 19343         11000      01014        3500               ARBENT\n",
    "# 19343         11000      01014        3500               ARBENT\n",
    "df_max_pop = df.loc[idx_max_pop, ('code_postal', 'Code INSEE', 'population', 'Commune', 'geo_point_2d')]\n",
    "df_max_pop.reset_index(inplace=True, drop=True)"
   ]
  },
  {
   "cell_type": "code",
   "execution_count": 16,
   "metadata": {},
   "outputs": [],
   "source": [
    "df = df_max_pop"
   ]
  },
  {
   "cell_type": "code",
   "execution_count": 17,
   "metadata": {},
   "outputs": [],
   "source": [
    "N = cumulative[cumulative > 0.20].index[0]\n",
    "df = pd.concat([df, df['geo_point_2d'].str.split(',').apply(pd.Series).rename(columns={0:'lattitude', 1:'longitude'})], axis=1)\n",
    "df_less = df[df['population'] < N]\n",
    "df_more = df[df['population'] >= N]"
   ]
  },
  {
   "cell_type": "code",
   "execution_count": 18,
   "metadata": {},
   "outputs": [],
   "source": [
    "ref_column = 'code_postal' \n",
    "assert not set(df_less[ref_column]).intersection(set(df_more[ref_column])) "
   ]
  },
  {
   "cell_type": "code",
   "execution_count": 19,
   "metadata": {},
   "outputs": [],
   "source": [
    "# pairwise distance between those two subsets \n",
    "geo_cdist = cdist(df_less[['lattitude', 'longitude']], df_more[['lattitude', 'longitude']])\n",
    "closest_index = np.argmin(geo_cdist, axis=1)"
   ]
  },
  {
   "cell_type": "code",
   "execution_count": 20,
   "metadata": {},
   "outputs": [
    {
     "data": {
      "text/plain": [
       "<matplotlib.axes._subplots.AxesSubplot at 0x7ff260e89f10>"
      ]
     },
     "execution_count": 20,
     "metadata": {},
     "output_type": "execute_result"
    },
    {
     "data": {
      "image/png": "[encoded data removed]",
      "text/plain": [
       "<Figure size 432x288 with 2 Axes>"
      ]
     },
     "metadata": {},
     "output_type": "display_data"
    }
   ],
   "source": [
    "# check that the nearest matched commune is 'near enough', compared to usual pairwise distance\n",
    "all_distances = list(geo_cdist.reshape(-1, 1)[:,0])\n",
    "match_distances = np.min(geo_cdist, axis=1)\n",
    "\n",
    "subset_distances = random.sample(all_distances, geo_cdist.shape[0])\n",
    "f, ax1 = plt.subplots()\n",
    "ax1.set_xlabel('pair distances')\n",
    "ax1.set_ylabel('subset of all', color='C0')\n",
    "ax1.tick_params(axis='y', labelcolor='C0')\n",
    "sns.distplot(subset_distances, ax=ax1, label='all')\n",
    "ax2 = ax1.twinx()\n",
    "ax2.set_ylabel('closest match', color='C1') \n",
    "ax2.tick_params(axis='y', labelcolor='C1')\n",
    "sns.distplot(match_distances, ax=ax2, color='C1', label='nearest match')"
   ]
  },
  {
   "cell_type": "code",
   "execution_count": 21,
   "metadata": {},
   "outputs": [
    {
     "data": {
      "text/html": [
       "<div>\n",
       "<style scoped>\n",
       "    .dataframe tbody tr th:only-of-type {\n",
       "        vertical-align: middle;\n",
       "    }\n",
       "\n",
       "    .dataframe tbody tr th {\n",
       "        vertical-align: top;\n",
       "    }\n",
       "\n",
       "    .dataframe thead th {\n",
       "        text-align: right;\n",
       "    }\n",
       "</style>\n",
       "<table border=\"1\" class=\"dataframe\">\n",
       "  <thead>\n",
       "    <tr style=\"text-align: right;\">\n",
       "      <th></th>\n",
       "      <th>code_postal</th>\n",
       "      <th>Code INSEE</th>\n",
       "      <th>population</th>\n",
       "      <th>Commune</th>\n",
       "      <th>geo_point_2d</th>\n",
       "      <th>lattitude</th>\n",
       "      <th>longitude</th>\n",
       "      <th>match_code_postal</th>\n",
       "    </tr>\n",
       "  </thead>\n",
       "  <tbody>\n",
       "    <tr>\n",
       "      <th>0</th>\n",
       "      <td>01000</td>\n",
       "      <td>01053</td>\n",
       "      <td>39600</td>\n",
       "      <td>BOURG-EN-BRESSE</td>\n",
       "      <td>46.2051520382,5.24602125501</td>\n",
       "      <td>46.2051520382</td>\n",
       "      <td>5.24602125501</td>\n",
       "      <td>01000</td>\n",
       "    </tr>\n",
       "    <tr>\n",
       "      <th>1</th>\n",
       "      <td>01090</td>\n",
       "      <td>01263</td>\n",
       "      <td>3800</td>\n",
       "      <td>MONTMERLE-SUR-SAONE</td>\n",
       "      <td>46.0849573236,4.7608579486</td>\n",
       "      <td>46.0849573236</td>\n",
       "      <td>4.7608579486</td>\n",
       "      <td>01090</td>\n",
       "    </tr>\n",
       "    <tr>\n",
       "      <th>2</th>\n",
       "      <td>01100</td>\n",
       "      <td>01283</td>\n",
       "      <td>22900</td>\n",
       "      <td>OYONNAX</td>\n",
       "      <td>46.2605435859,5.65344320923</td>\n",
       "      <td>46.2605435859</td>\n",
       "      <td>5.65344320923</td>\n",
       "      <td>01100</td>\n",
       "    </tr>\n",
       "    <tr>\n",
       "      <th>3</th>\n",
       "      <td>01110</td>\n",
       "      <td>01185</td>\n",
       "      <td>4100</td>\n",
       "      <td>HAUTEVILLE-LOMPNES</td>\n",
       "      <td>45.9696520061,5.57627261783</td>\n",
       "      <td>45.9696520061</td>\n",
       "      <td>5.57627261783</td>\n",
       "      <td>01110</td>\n",
       "    </tr>\n",
       "    <tr>\n",
       "      <th>4</th>\n",
       "      <td>01120</td>\n",
       "      <td>01262</td>\n",
       "      <td>6900</td>\n",
       "      <td>MONTLUEL</td>\n",
       "      <td>45.8909006209,5.01987566185</td>\n",
       "      <td>45.8909006209</td>\n",
       "      <td>5.01987566185</td>\n",
       "      <td>01120</td>\n",
       "    </tr>\n",
       "    <tr>\n",
       "      <th>5</th>\n",
       "      <td>01130</td>\n",
       "      <td>01269</td>\n",
       "      <td>3600</td>\n",
       "      <td>NANTUA</td>\n",
       "      <td>46.1537845403,5.61352793799</td>\n",
       "      <td>46.1537845403</td>\n",
       "      <td>5.61352793799</td>\n",
       "      <td>01130</td>\n",
       "    </tr>\n",
       "    <tr>\n",
       "      <th>6</th>\n",
       "      <td>01140</td>\n",
       "      <td>01348</td>\n",
       "      <td>2700</td>\n",
       "      <td>SAINT-DIDIER-SUR-CHALARONNE</td>\n",
       "      <td>46.1840408682,4.81645666173</td>\n",
       "      <td>46.1840408682</td>\n",
       "      <td>4.81645666173</td>\n",
       "      <td>01140</td>\n",
       "    </tr>\n",
       "    <tr>\n",
       "      <th>7</th>\n",
       "      <td>01150</td>\n",
       "      <td>01202</td>\n",
       "      <td>6700</td>\n",
       "      <td>LAGNIEU</td>\n",
       "      <td>45.8917015798,5.32917518895</td>\n",
       "      <td>45.8917015798</td>\n",
       "      <td>5.32917518895</td>\n",
       "      <td>01150</td>\n",
       "    </tr>\n",
       "    <tr>\n",
       "      <th>8</th>\n",
       "      <td>01160</td>\n",
       "      <td>01304</td>\n",
       "      <td>2600</td>\n",
       "      <td>PONT-D'AIN</td>\n",
       "      <td>46.0542077091,5.34703652618</td>\n",
       "      <td>46.0542077091</td>\n",
       "      <td>5.34703652618</td>\n",
       "      <td>01160</td>\n",
       "    </tr>\n",
       "    <tr>\n",
       "      <th>9</th>\n",
       "      <td>01170</td>\n",
       "      <td>01173</td>\n",
       "      <td>9900</td>\n",
       "      <td>GEX</td>\n",
       "      <td>46.3471891747,6.04650555568</td>\n",
       "      <td>46.3471891747</td>\n",
       "      <td>6.04650555568</td>\n",
       "      <td>01170</td>\n",
       "    </tr>\n",
       "    <tr>\n",
       "      <th>10</th>\n",
       "      <td>01190</td>\n",
       "      <td>01305</td>\n",
       "      <td>2200</td>\n",
       "      <td>PONT-DE-VAUX</td>\n",
       "      <td>46.4422864477,4.92862459427</td>\n",
       "      <td>46.4422864477</td>\n",
       "      <td>4.92862459427</td>\n",
       "      <td>01190</td>\n",
       "    </tr>\n",
       "    <tr>\n",
       "      <th>11</th>\n",
       "      <td>01200</td>\n",
       "      <td>01033</td>\n",
       "      <td>11700</td>\n",
       "      <td>BELLEGARDE-SUR-VALSERINE</td>\n",
       "      <td>46.1067901755,5.83202736464</td>\n",
       "      <td>46.1067901755</td>\n",
       "      <td>5.83202736464</td>\n",
       "      <td>01200</td>\n",
       "    </tr>\n",
       "    <tr>\n",
       "      <th>12</th>\n",
       "      <td>01210</td>\n",
       "      <td>01160</td>\n",
       "      <td>8000</td>\n",
       "      <td>FERNEY-VOLTAIRE</td>\n",
       "      <td>46.2519789243,6.10826403805</td>\n",
       "      <td>46.2519789243</td>\n",
       "      <td>6.10826403805</td>\n",
       "      <td>01210</td>\n",
       "    </tr>\n",
       "    <tr>\n",
       "      <th>13</th>\n",
       "      <td>01220</td>\n",
       "      <td>01143</td>\n",
       "      <td>7900</td>\n",
       "      <td>DIVONNE-LES-BAINS</td>\n",
       "      <td>46.3756333495,6.1158647611</td>\n",
       "      <td>46.3756333495</td>\n",
       "      <td>6.1158647611</td>\n",
       "      <td>01220</td>\n",
       "    </tr>\n",
       "    <tr>\n",
       "      <th>14</th>\n",
       "      <td>01230</td>\n",
       "      <td>01384</td>\n",
       "      <td>2200</td>\n",
       "      <td>SAINT-RAMBERT-EN-BUGEY</td>\n",
       "      <td>45.9504631708,5.44017084612</td>\n",
       "      <td>45.9504631708</td>\n",
       "      <td>5.44017084612</td>\n",
       "      <td>01230</td>\n",
       "    </tr>\n",
       "  </tbody>\n",
       "</table>\n",
       "</div>"
      ],
      "text/plain": [
       "   code_postal Code INSEE  population                      Commune  \\\n",
       "0        01000      01053       39600              BOURG-EN-BRESSE   \n",
       "1        01090      01263        3800          MONTMERLE-SUR-SAONE   \n",
       "2        01100      01283       22900                      OYONNAX   \n",
       "3        01110      01185        4100           HAUTEVILLE-LOMPNES   \n",
       "4        01120      01262        6900                     MONTLUEL   \n",
       "5        01130      01269        3600                       NANTUA   \n",
       "6        01140      01348        2700  SAINT-DIDIER-SUR-CHALARONNE   \n",
       "7        01150      01202        6700                      LAGNIEU   \n",
       "8        01160      01304        2600                   PONT-D'AIN   \n",
       "9        01170      01173        9900                          GEX   \n",
       "10       01190      01305        2200                 PONT-DE-VAUX   \n",
       "11       01200      01033       11700     BELLEGARDE-SUR-VALSERINE   \n",
       "12       01210      01160        8000              FERNEY-VOLTAIRE   \n",
       "13       01220      01143        7900            DIVONNE-LES-BAINS   \n",
       "14       01230      01384        2200       SAINT-RAMBERT-EN-BUGEY   \n",
       "\n",
       "                   geo_point_2d      lattitude      longitude  \\\n",
       "0   46.2051520382,5.24602125501  46.2051520382  5.24602125501   \n",
       "1    46.0849573236,4.7608579486  46.0849573236   4.7608579486   \n",
       "2   46.2605435859,5.65344320923  46.2605435859  5.65344320923   \n",
       "3   45.9696520061,5.57627261783  45.9696520061  5.57627261783   \n",
       "4   45.8909006209,5.01987566185  45.8909006209  5.01987566185   \n",
       "5   46.1537845403,5.61352793799  46.1537845403  5.61352793799   \n",
       "6   46.1840408682,4.81645666173  46.1840408682  4.81645666173   \n",
       "7   45.8917015798,5.32917518895  45.8917015798  5.32917518895   \n",
       "8   46.0542077091,5.34703652618  46.0542077091  5.34703652618   \n",
       "9   46.3471891747,6.04650555568  46.3471891747  6.04650555568   \n",
       "10  46.4422864477,4.92862459427  46.4422864477  4.92862459427   \n",
       "11  46.1067901755,5.83202736464  46.1067901755  5.83202736464   \n",
       "12  46.2519789243,6.10826403805  46.2519789243  6.10826403805   \n",
       "13   46.3756333495,6.1158647611  46.3756333495   6.1158647611   \n",
       "14  45.9504631708,5.44017084612  45.9504631708  5.44017084612   \n",
       "\n",
       "   match_code_postal  \n",
       "0              01000  \n",
       "1              01090  \n",
       "2              01100  \n",
       "3              01110  \n",
       "4              01120  \n",
       "5              01130  \n",
       "6              01140  \n",
       "7              01150  \n",
       "8              01160  \n",
       "9              01170  \n",
       "10             01190  \n",
       "11             01200  \n",
       "12             01210  \n",
       "13             01220  \n",
       "14             01230  "
      ]
     },
     "execution_count": 21,
     "metadata": {},
     "output_type": "execute_result"
    }
   ],
   "source": [
    "# pairwise distance between those two subsets \n",
    "geo_cdist = cdist(df_less[['lattitude', 'longitude']], df_more[['lattitude', 'longitude']])\n",
    "closest_index = np.argmin(geo_cdist, axis=1)\n",
    "# if population under threshold, match is closest municipality (min geo dist) amonngst those with population above threshold\n",
    "match_values = np.array([df_more.iloc[i][ref_column] for i in closest_index])\n",
    "# if population above threshold, match is self \n",
    "df[f'match_{ref_column}'] = df[ref_column]\n",
    "df.loc[df_less.index, f'match_{ref_column}'] = match_values\n",
    "df.head(15)"
   ]
  },
  {
   "cell_type": "code",
   "execution_count": 22,
   "metadata": {},
   "outputs": [],
   "source": [
    "# test matching is correct \n",
    "def test_row(row):\n",
    "    # if population greater than threshold\n",
    "    if row['population'] < N: \n",
    "        # assert ref_column match differs\n",
    "        assert row[ref_column] != row[f'match_{ref_column}']\n",
    "        # assert ref_column match has its population above threshold \n",
    "        df[df[ref_column] == row[ref_column]]['population'] >= N\n",
    "    else: # \n",
    "        # assert INSEE match is self \n",
    "        assert row[ref_column] == row[f'match_{ref_column}']\n",
    "n_rows = 1000 # set -1 to test the entire dataframe \n",
    "for k, row in df.iloc[:n_rows].iterrows():\n",
    "    test_row(row)"
   ]
  },
  {
   "cell_type": "code",
   "execution_count": 23,
   "metadata": {},
   "outputs": [
    {
     "data": {
      "text/html": [
       "<div>\n",
       "<style scoped>\n",
       "    .dataframe tbody tr th:only-of-type {\n",
       "        vertical-align: middle;\n",
       "    }\n",
       "\n",
       "    .dataframe tbody tr th {\n",
       "        vertical-align: top;\n",
       "    }\n",
       "\n",
       "    .dataframe thead th {\n",
       "        text-align: right;\n",
       "    }\n",
       "</style>\n",
       "<table border=\"1\" class=\"dataframe\">\n",
       "  <thead>\n",
       "    <tr style=\"text-align: right;\">\n",
       "      <th></th>\n",
       "      <th>code_postal</th>\n",
       "      <th>Code INSEE</th>\n",
       "      <th>population</th>\n",
       "      <th>Commune</th>\n",
       "      <th>geo_point_2d</th>\n",
       "      <th>lattitude</th>\n",
       "      <th>longitude</th>\n",
       "      <th>match_code_postal</th>\n",
       "    </tr>\n",
       "  </thead>\n",
       "  <tbody>\n",
       "    <tr>\n",
       "      <th>0</th>\n",
       "      <td>01000</td>\n",
       "      <td>01053</td>\n",
       "      <td>39600</td>\n",
       "      <td>BOURG-EN-BRESSE</td>\n",
       "      <td>46.2051520382,5.24602125501</td>\n",
       "      <td>46.2051520382</td>\n",
       "      <td>5.24602125501</td>\n",
       "      <td>01000</td>\n",
       "    </tr>\n",
       "    <tr>\n",
       "      <th>1</th>\n",
       "      <td>01090</td>\n",
       "      <td>01263</td>\n",
       "      <td>3800</td>\n",
       "      <td>MONTMERLE-SUR-SAONE</td>\n",
       "      <td>46.0849573236,4.7608579486</td>\n",
       "      <td>46.0849573236</td>\n",
       "      <td>4.7608579486</td>\n",
       "      <td>01090</td>\n",
       "    </tr>\n",
       "    <tr>\n",
       "      <th>2</th>\n",
       "      <td>01100</td>\n",
       "      <td>01283</td>\n",
       "      <td>22900</td>\n",
       "      <td>OYONNAX</td>\n",
       "      <td>46.2605435859,5.65344320923</td>\n",
       "      <td>46.2605435859</td>\n",
       "      <td>5.65344320923</td>\n",
       "      <td>01100</td>\n",
       "    </tr>\n",
       "    <tr>\n",
       "      <th>3</th>\n",
       "      <td>01110</td>\n",
       "      <td>01185</td>\n",
       "      <td>4100</td>\n",
       "      <td>HAUTEVILLE-LOMPNES</td>\n",
       "      <td>45.9696520061,5.57627261783</td>\n",
       "      <td>45.9696520061</td>\n",
       "      <td>5.57627261783</td>\n",
       "      <td>01110</td>\n",
       "    </tr>\n",
       "    <tr>\n",
       "      <th>4</th>\n",
       "      <td>01120</td>\n",
       "      <td>01262</td>\n",
       "      <td>6900</td>\n",
       "      <td>MONTLUEL</td>\n",
       "      <td>45.8909006209,5.01987566185</td>\n",
       "      <td>45.8909006209</td>\n",
       "      <td>5.01987566185</td>\n",
       "      <td>01120</td>\n",
       "    </tr>\n",
       "  </tbody>\n",
       "</table>\n",
       "</div>"
      ],
      "text/plain": [
       "  code_postal Code INSEE  population              Commune  \\\n",
       "0       01000      01053       39600      BOURG-EN-BRESSE   \n",
       "1       01090      01263        3800  MONTMERLE-SUR-SAONE   \n",
       "2       01100      01283       22900              OYONNAX   \n",
       "3       01110      01185        4100   HAUTEVILLE-LOMPNES   \n",
       "4       01120      01262        6900             MONTLUEL   \n",
       "\n",
       "                  geo_point_2d      lattitude      longitude match_code_postal  \n",
       "0  46.2051520382,5.24602125501  46.2051520382  5.24602125501             01000  \n",
       "1   46.0849573236,4.7608579486  46.0849573236   4.7608579486             01090  \n",
       "2  46.2605435859,5.65344320923  46.2605435859  5.65344320923             01100  \n",
       "3  45.9696520061,5.57627261783  45.9696520061  5.57627261783             01110  \n",
       "4  45.8909006209,5.01987566185  45.8909006209  5.01987566185             01120  "
      ]
     },
     "execution_count": 23,
     "metadata": {},
     "output_type": "execute_result"
    }
   ],
   "source": [
    "df.head()"
   ]
  },
  {
   "cell_type": "markdown",
   "metadata": {},
   "source": [
    "# Dump to json "
   ]
  },
  {
   "cell_type": "code",
   "execution_count": 25,
   "metadata": {},
   "outputs": [],
   "source": [
    "# dump to JSON \n",
    "matching_dict = dict(zip(df['code_postal'], df['match_code_postal']))\n",
    "with open('closest_zip.json', 'w') as outfile:\n",
    "    json.dump(matching_dict, outfile)"
   ]
  }
 ],
 "metadata": {
  "kernelspec": {
   "display_name": "Python 3",
   "language": "python",
   "name": "python3"
  },
  "language_info": {
   "codemirror_mode": {
    "name": "ipython",
    "version": 3
   },
   "file_extension": ".py",
   "mimetype": "text/x-python",
   "name": "python",
   "nbconvert_exporter": "python",
   "pygments_lexer": "ipython3",
   "version": "3.8.1"
  }
 },
 "nbformat": 4,
 "nbformat_minor": 2
}
